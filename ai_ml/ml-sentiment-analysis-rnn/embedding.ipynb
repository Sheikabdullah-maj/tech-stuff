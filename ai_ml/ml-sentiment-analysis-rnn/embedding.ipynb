{
 "cells": [
  {
   "cell_type": "code",
   "execution_count": 1,
   "metadata": {},
   "outputs": [],
   "source": [
    "from tensorflow.keras.preprocessing.text import one_hot"
   ]
  },
  {
   "cell_type": "code",
   "execution_count": 2,
   "metadata": {},
   "outputs": [],
   "source": [
    "### sentences\n",
    "sent=[  'the glass of milk',\n",
    "     'the glass of juice',\n",
    "     'the cup of tea',\n",
    "    'I am a good boy',\n",
    "     'I am a good developer',\n",
    "     'understand the meaning of words',\n",
    "     'your videos are good',]"
   ]
  },
  {
   "cell_type": "code",
   "execution_count": 3,
   "metadata": {},
   "outputs": [
    {
     "data": {
      "text/plain": [
       "['the glass of milk',\n",
       " 'the glass of juice',\n",
       " 'the cup of tea',\n",
       " 'I am a good boy',\n",
       " 'I am a good developer',\n",
       " 'understand the meaning of words',\n",
       " 'your videos are good']"
      ]
     },
     "execution_count": 3,
     "metadata": {},
     "output_type": "execute_result"
    }
   ],
   "source": [
    "sent"
   ]
  },
  {
   "cell_type": "code",
   "execution_count": 4,
   "metadata": {},
   "outputs": [],
   "source": [
    "## Define the vocabulary size\n",
    "voc_size=10000"
   ]
  },
  {
   "cell_type": "code",
   "execution_count": 5,
   "metadata": {},
   "outputs": [
    {
     "data": {
      "text/plain": [
       "['the glass of milk',\n",
       " 'the glass of juice',\n",
       " 'the cup of tea',\n",
       " 'I am a good boy',\n",
       " 'I am a good developer',\n",
       " 'understand the meaning of words',\n",
       " 'your videos are good']"
      ]
     },
     "execution_count": 5,
     "metadata": {},
     "output_type": "execute_result"
    }
   ],
   "source": [
    "sent"
   ]
  },
  {
   "cell_type": "code",
   "execution_count": 6,
   "metadata": {},
   "outputs": [
    {
     "data": {
      "text/plain": [
       "[[3219, 6822, 518, 1967],\n",
       " [3219, 6822, 518, 2730],\n",
       " [3219, 209, 518, 5440],\n",
       " [3963, 7337, 8431, 3179, 5985],\n",
       " [3963, 7337, 8431, 3179, 3187],\n",
       " [3643, 3219, 8825, 518, 9318],\n",
       " [4613, 1300, 4705, 3179]]"
      ]
     },
     "execution_count": 6,
     "metadata": {},
     "output_type": "execute_result"
    }
   ],
   "source": [
    "### One Hot Representation\n",
    "one_hot_repr=[one_hot(words,voc_size)for words in sent]\n",
    "one_hot_repr"
   ]
  },
  {
   "cell_type": "code",
   "execution_count": 7,
   "metadata": {},
   "outputs": [],
   "source": [
    "## word Embedding Representation\n",
    "\n",
    "from tensorflow.keras.layers import Embedding\n",
    "#from tensorflow.keras.processing.sequence import pad_sequences\n",
    "from tensorflow.keras.utils import pad_sequences\n",
    "from tensorflow.keras.models import Sequential"
   ]
  },
  {
   "cell_type": "code",
   "execution_count": 8,
   "metadata": {},
   "outputs": [],
   "source": [
    "import numpy as np"
   ]
  },
  {
   "cell_type": "code",
   "execution_count": 9,
   "metadata": {},
   "outputs": [
    {
     "name": "stdout",
     "output_type": "stream",
     "text": [
      "[[   0    0    0    0 3219 6822  518 1967]\n",
      " [   0    0    0    0 3219 6822  518 2730]\n",
      " [   0    0    0    0 3219  209  518 5440]\n",
      " [   0    0    0 3963 7337 8431 3179 5985]\n",
      " [   0    0    0 3963 7337 8431 3179 3187]\n",
      " [   0    0    0 3643 3219 8825  518 9318]\n",
      " [   0    0    0    0 4613 1300 4705 3179]]\n"
     ]
    }
   ],
   "source": [
    "sent_length=8\n",
    "embedded_docs=pad_sequences(one_hot_repr,padding='pre',maxlen=sent_length)\n",
    "print(embedded_docs)"
   ]
  },
  {
   "cell_type": "code",
   "execution_count": 10,
   "metadata": {},
   "outputs": [],
   "source": [
    "## feature representation\n",
    "dim=10"
   ]
  },
  {
   "cell_type": "code",
   "execution_count": 11,
   "metadata": {},
   "outputs": [
    {
     "name": "stderr",
     "output_type": "stream",
     "text": [
      "d:\\itian\\python\\ml-customer-retention\\venv\\Lib\\site-packages\\keras\\src\\layers\\core\\embedding.py:90: UserWarning: Argument `input_length` is deprecated. Just remove it.\n",
      "  warnings.warn(\n"
     ]
    }
   ],
   "source": [
    "model=Sequential()\n",
    "model.add(Embedding(voc_size,dim,input_length=sent_length))\n",
    "model.compile('adam','mse')"
   ]
  },
  {
   "cell_type": "code",
   "execution_count": 12,
   "metadata": {},
   "outputs": [
    {
     "data": {
      "text/html": [
       "<pre style=\"white-space:pre;overflow-x:auto;line-height:normal;font-family:Menlo,'DejaVu Sans Mono',consolas,'Courier New',monospace\"><span style=\"font-weight: bold\">Model: \"sequential\"</span>\n",
       "</pre>\n"
      ],
      "text/plain": [
       "\u001b[1mModel: \"sequential\"\u001b[0m\n"
      ]
     },
     "metadata": {},
     "output_type": "display_data"
    },
    {
     "data": {
      "text/html": [
       "<pre style=\"white-space:pre;overflow-x:auto;line-height:normal;font-family:Menlo,'DejaVu Sans Mono',consolas,'Courier New',monospace\">┏━━━━━━━━━━━━━━━━━━━━━━━━━━━━━━━━━┳━━━━━━━━━━━━━━━━━━━━━━━━┳━━━━━━━━━━━━━━━┓\n",
       "┃<span style=\"font-weight: bold\"> Layer (type)                    </span>┃<span style=\"font-weight: bold\"> Output Shape           </span>┃<span style=\"font-weight: bold\">       Param # </span>┃\n",
       "┡━━━━━━━━━━━━━━━━━━━━━━━━━━━━━━━━━╇━━━━━━━━━━━━━━━━━━━━━━━━╇━━━━━━━━━━━━━━━┩\n",
       "│ embedding (<span style=\"color: #0087ff; text-decoration-color: #0087ff\">Embedding</span>)           │ ?                      │   <span style=\"color: #00af00; text-decoration-color: #00af00\">0</span> (unbuilt) │\n",
       "└─────────────────────────────────┴────────────────────────┴───────────────┘\n",
       "</pre>\n"
      ],
      "text/plain": [
       "┏━━━━━━━━━━━━━━━━━━━━━━━━━━━━━━━━━┳━━━━━━━━━━━━━━━━━━━━━━━━┳━━━━━━━━━━━━━━━┓\n",
       "┃\u001b[1m \u001b[0m\u001b[1mLayer (type)                   \u001b[0m\u001b[1m \u001b[0m┃\u001b[1m \u001b[0m\u001b[1mOutput Shape          \u001b[0m\u001b[1m \u001b[0m┃\u001b[1m \u001b[0m\u001b[1m      Param #\u001b[0m\u001b[1m \u001b[0m┃\n",
       "┡━━━━━━━━━━━━━━━━━━━━━━━━━━━━━━━━━╇━━━━━━━━━━━━━━━━━━━━━━━━╇━━━━━━━━━━━━━━━┩\n",
       "│ embedding (\u001b[38;5;33mEmbedding\u001b[0m)           │ ?                      │   \u001b[38;5;34m0\u001b[0m (unbuilt) │\n",
       "└─────────────────────────────────┴────────────────────────┴───────────────┘\n"
      ]
     },
     "metadata": {},
     "output_type": "display_data"
    },
    {
     "data": {
      "text/html": [
       "<pre style=\"white-space:pre;overflow-x:auto;line-height:normal;font-family:Menlo,'DejaVu Sans Mono',consolas,'Courier New',monospace\"><span style=\"font-weight: bold\"> Total params: </span><span style=\"color: #00af00; text-decoration-color: #00af00\">0</span> (0.00 B)\n",
       "</pre>\n"
      ],
      "text/plain": [
       "\u001b[1m Total params: \u001b[0m\u001b[38;5;34m0\u001b[0m (0.00 B)\n"
      ]
     },
     "metadata": {},
     "output_type": "display_data"
    },
    {
     "data": {
      "text/html": [
       "<pre style=\"white-space:pre;overflow-x:auto;line-height:normal;font-family:Menlo,'DejaVu Sans Mono',consolas,'Courier New',monospace\"><span style=\"font-weight: bold\"> Trainable params: </span><span style=\"color: #00af00; text-decoration-color: #00af00\">0</span> (0.00 B)\n",
       "</pre>\n"
      ],
      "text/plain": [
       "\u001b[1m Trainable params: \u001b[0m\u001b[38;5;34m0\u001b[0m (0.00 B)\n"
      ]
     },
     "metadata": {},
     "output_type": "display_data"
    },
    {
     "data": {
      "text/html": [
       "<pre style=\"white-space:pre;overflow-x:auto;line-height:normal;font-family:Menlo,'DejaVu Sans Mono',consolas,'Courier New',monospace\"><span style=\"font-weight: bold\"> Non-trainable params: </span><span style=\"color: #00af00; text-decoration-color: #00af00\">0</span> (0.00 B)\n",
       "</pre>\n"
      ],
      "text/plain": [
       "\u001b[1m Non-trainable params: \u001b[0m\u001b[38;5;34m0\u001b[0m (0.00 B)\n"
      ]
     },
     "metadata": {},
     "output_type": "display_data"
    }
   ],
   "source": [
    "model.summary()"
   ]
  },
  {
   "cell_type": "code",
   "execution_count": 13,
   "metadata": {},
   "outputs": [
    {
     "name": "stdout",
     "output_type": "stream",
     "text": [
      "\u001b[1m1/1\u001b[0m \u001b[32m━━━━━━━━━━━━━━━━━━━━\u001b[0m\u001b[37m\u001b[0m \u001b[1m0s\u001b[0m 284ms/step\n"
     ]
    },
    {
     "data": {
      "text/plain": [
       "array([[[ 9.09669325e-03, -3.58269364e-03,  6.67985529e-03,\n",
       "         -3.55936661e-02,  3.18146609e-02,  2.73786895e-02,\n",
       "         -4.31043617e-02, -3.25590596e-02,  3.38653214e-02,\n",
       "         -3.01570818e-03],\n",
       "        [ 9.09669325e-03, -3.58269364e-03,  6.67985529e-03,\n",
       "         -3.55936661e-02,  3.18146609e-02,  2.73786895e-02,\n",
       "         -4.31043617e-02, -3.25590596e-02,  3.38653214e-02,\n",
       "         -3.01570818e-03],\n",
       "        [ 9.09669325e-03, -3.58269364e-03,  6.67985529e-03,\n",
       "         -3.55936661e-02,  3.18146609e-02,  2.73786895e-02,\n",
       "         -4.31043617e-02, -3.25590596e-02,  3.38653214e-02,\n",
       "         -3.01570818e-03],\n",
       "        [ 9.09669325e-03, -3.58269364e-03,  6.67985529e-03,\n",
       "         -3.55936661e-02,  3.18146609e-02,  2.73786895e-02,\n",
       "         -4.31043617e-02, -3.25590596e-02,  3.38653214e-02,\n",
       "         -3.01570818e-03],\n",
       "        [-2.55081896e-02,  4.68034483e-02, -3.36350575e-02,\n",
       "         -3.46849337e-02,  1.82058699e-02,  4.43726815e-02,\n",
       "          3.16472910e-02, -1.08553544e-02, -3.23754326e-02,\n",
       "         -4.01007310e-02],\n",
       "        [-4.74609137e-02,  1.46447904e-02, -7.71695375e-03,\n",
       "         -1.16449594e-03, -2.53759623e-02,  3.95874865e-02,\n",
       "          2.16442458e-02, -2.93971896e-02, -2.18047947e-03,\n",
       "         -2.14749109e-02],\n",
       "        [ 3.56487371e-02,  2.67877914e-02,  2.28173770e-02,\n",
       "          1.90138854e-02,  4.11357731e-03,  2.02756412e-02,\n",
       "         -1.58316493e-02, -2.58923769e-02,  5.98489121e-03,\n",
       "         -2.09709294e-02],\n",
       "        [-4.16850075e-02,  3.11292149e-02,  2.10080035e-02,\n",
       "          2.90551670e-02, -4.59329039e-03, -4.23863195e-02,\n",
       "         -2.13272572e-02, -4.96458784e-02,  4.19991091e-03,\n",
       "         -4.88076806e-02]],\n",
       "\n",
       "       [[ 9.09669325e-03, -3.58269364e-03,  6.67985529e-03,\n",
       "         -3.55936661e-02,  3.18146609e-02,  2.73786895e-02,\n",
       "         -4.31043617e-02, -3.25590596e-02,  3.38653214e-02,\n",
       "         -3.01570818e-03],\n",
       "        [ 9.09669325e-03, -3.58269364e-03,  6.67985529e-03,\n",
       "         -3.55936661e-02,  3.18146609e-02,  2.73786895e-02,\n",
       "         -4.31043617e-02, -3.25590596e-02,  3.38653214e-02,\n",
       "         -3.01570818e-03],\n",
       "        [ 9.09669325e-03, -3.58269364e-03,  6.67985529e-03,\n",
       "         -3.55936661e-02,  3.18146609e-02,  2.73786895e-02,\n",
       "         -4.31043617e-02, -3.25590596e-02,  3.38653214e-02,\n",
       "         -3.01570818e-03],\n",
       "        [ 9.09669325e-03, -3.58269364e-03,  6.67985529e-03,\n",
       "         -3.55936661e-02,  3.18146609e-02,  2.73786895e-02,\n",
       "         -4.31043617e-02, -3.25590596e-02,  3.38653214e-02,\n",
       "         -3.01570818e-03],\n",
       "        [-2.55081896e-02,  4.68034483e-02, -3.36350575e-02,\n",
       "         -3.46849337e-02,  1.82058699e-02,  4.43726815e-02,\n",
       "          3.16472910e-02, -1.08553544e-02, -3.23754326e-02,\n",
       "         -4.01007310e-02],\n",
       "        [-4.74609137e-02,  1.46447904e-02, -7.71695375e-03,\n",
       "         -1.16449594e-03, -2.53759623e-02,  3.95874865e-02,\n",
       "          2.16442458e-02, -2.93971896e-02, -2.18047947e-03,\n",
       "         -2.14749109e-02],\n",
       "        [ 3.56487371e-02,  2.67877914e-02,  2.28173770e-02,\n",
       "          1.90138854e-02,  4.11357731e-03,  2.02756412e-02,\n",
       "         -1.58316493e-02, -2.58923769e-02,  5.98489121e-03,\n",
       "         -2.09709294e-02],\n",
       "        [ 3.46447155e-03,  2.60842778e-02, -4.24070843e-02,\n",
       "         -3.20156813e-02,  3.36480848e-02, -1.71543285e-03,\n",
       "         -3.03028952e-02,  1.37691014e-02, -3.32957990e-02,\n",
       "          3.06387059e-02]],\n",
       "\n",
       "       [[ 9.09669325e-03, -3.58269364e-03,  6.67985529e-03,\n",
       "         -3.55936661e-02,  3.18146609e-02,  2.73786895e-02,\n",
       "         -4.31043617e-02, -3.25590596e-02,  3.38653214e-02,\n",
       "         -3.01570818e-03],\n",
       "        [ 9.09669325e-03, -3.58269364e-03,  6.67985529e-03,\n",
       "         -3.55936661e-02,  3.18146609e-02,  2.73786895e-02,\n",
       "         -4.31043617e-02, -3.25590596e-02,  3.38653214e-02,\n",
       "         -3.01570818e-03],\n",
       "        [ 9.09669325e-03, -3.58269364e-03,  6.67985529e-03,\n",
       "         -3.55936661e-02,  3.18146609e-02,  2.73786895e-02,\n",
       "         -4.31043617e-02, -3.25590596e-02,  3.38653214e-02,\n",
       "         -3.01570818e-03],\n",
       "        [ 9.09669325e-03, -3.58269364e-03,  6.67985529e-03,\n",
       "         -3.55936661e-02,  3.18146609e-02,  2.73786895e-02,\n",
       "         -4.31043617e-02, -3.25590596e-02,  3.38653214e-02,\n",
       "         -3.01570818e-03],\n",
       "        [-2.55081896e-02,  4.68034483e-02, -3.36350575e-02,\n",
       "         -3.46849337e-02,  1.82058699e-02,  4.43726815e-02,\n",
       "          3.16472910e-02, -1.08553544e-02, -3.23754326e-02,\n",
       "         -4.01007310e-02],\n",
       "        [ 3.57138552e-02,  1.40814669e-02,  3.10543813e-02,\n",
       "         -4.17873636e-02,  4.59401719e-02, -6.56306744e-03,\n",
       "          2.18291394e-02, -3.41442600e-02,  8.12076405e-03,\n",
       "         -6.18548319e-03],\n",
       "        [ 3.56487371e-02,  2.67877914e-02,  2.28173770e-02,\n",
       "          1.90138854e-02,  4.11357731e-03,  2.02756412e-02,\n",
       "         -1.58316493e-02, -2.58923769e-02,  5.98489121e-03,\n",
       "         -2.09709294e-02],\n",
       "        [-2.25936770e-02, -3.69070843e-03, -2.35867854e-02,\n",
       "         -6.65792078e-03,  1.40793063e-02, -1.73155069e-02,\n",
       "         -1.00112930e-02, -2.92062759e-02, -4.12145741e-02,\n",
       "         -1.17846727e-02]],\n",
       "\n",
       "       [[ 9.09669325e-03, -3.58269364e-03,  6.67985529e-03,\n",
       "         -3.55936661e-02,  3.18146609e-02,  2.73786895e-02,\n",
       "         -4.31043617e-02, -3.25590596e-02,  3.38653214e-02,\n",
       "         -3.01570818e-03],\n",
       "        [ 9.09669325e-03, -3.58269364e-03,  6.67985529e-03,\n",
       "         -3.55936661e-02,  3.18146609e-02,  2.73786895e-02,\n",
       "         -4.31043617e-02, -3.25590596e-02,  3.38653214e-02,\n",
       "         -3.01570818e-03],\n",
       "        [ 9.09669325e-03, -3.58269364e-03,  6.67985529e-03,\n",
       "         -3.55936661e-02,  3.18146609e-02,  2.73786895e-02,\n",
       "         -4.31043617e-02, -3.25590596e-02,  3.38653214e-02,\n",
       "         -3.01570818e-03],\n",
       "        [-2.35344172e-02,  1.38849877e-02, -3.54295485e-02,\n",
       "          1.98104493e-02, -9.56573337e-03,  1.38366222e-03,\n",
       "          2.02984251e-02, -9.60983336e-04,  4.50826548e-02,\n",
       "         -1.18565075e-02],\n",
       "        [-1.09853968e-02,  4.42963131e-02, -7.72354752e-03,\n",
       "          4.33615707e-02,  4.68085743e-02,  5.50503656e-03,\n",
       "         -4.24525887e-03,  3.03944200e-03, -1.75774097e-02,\n",
       "          6.53827190e-03],\n",
       "        [ 3.49868089e-04,  4.22256105e-02,  1.46188997e-02,\n",
       "         -3.19970623e-02, -1.34301409e-02,  2.07542293e-02,\n",
       "          1.52494647e-02,  4.96967323e-02, -3.04562580e-02,\n",
       "          1.36194341e-02],\n",
       "        [ 1.16535537e-02,  2.34412216e-02, -1.53768063e-02,\n",
       "          1.84336565e-02,  1.28363408e-02, -2.58370172e-02,\n",
       "          3.78773548e-02, -4.81442101e-02,  3.51866968e-02,\n",
       "          4.44219597e-02],\n",
       "        [ 9.81330872e-03, -2.28692777e-02,  2.99119391e-02,\n",
       "          1.64183266e-02,  3.17477919e-02,  4.96665575e-02,\n",
       "         -1.34787560e-02,  4.69794013e-02, -7.54345208e-04,\n",
       "          1.54368393e-02]],\n",
       "\n",
       "       [[ 9.09669325e-03, -3.58269364e-03,  6.67985529e-03,\n",
       "         -3.55936661e-02,  3.18146609e-02,  2.73786895e-02,\n",
       "         -4.31043617e-02, -3.25590596e-02,  3.38653214e-02,\n",
       "         -3.01570818e-03],\n",
       "        [ 9.09669325e-03, -3.58269364e-03,  6.67985529e-03,\n",
       "         -3.55936661e-02,  3.18146609e-02,  2.73786895e-02,\n",
       "         -4.31043617e-02, -3.25590596e-02,  3.38653214e-02,\n",
       "         -3.01570818e-03],\n",
       "        [ 9.09669325e-03, -3.58269364e-03,  6.67985529e-03,\n",
       "         -3.55936661e-02,  3.18146609e-02,  2.73786895e-02,\n",
       "         -4.31043617e-02, -3.25590596e-02,  3.38653214e-02,\n",
       "         -3.01570818e-03],\n",
       "        [-2.35344172e-02,  1.38849877e-02, -3.54295485e-02,\n",
       "          1.98104493e-02, -9.56573337e-03,  1.38366222e-03,\n",
       "          2.02984251e-02, -9.60983336e-04,  4.50826548e-02,\n",
       "         -1.18565075e-02],\n",
       "        [-1.09853968e-02,  4.42963131e-02, -7.72354752e-03,\n",
       "          4.33615707e-02,  4.68085743e-02,  5.50503656e-03,\n",
       "         -4.24525887e-03,  3.03944200e-03, -1.75774097e-02,\n",
       "          6.53827190e-03],\n",
       "        [ 3.49868089e-04,  4.22256105e-02,  1.46188997e-02,\n",
       "         -3.19970623e-02, -1.34301409e-02,  2.07542293e-02,\n",
       "          1.52494647e-02,  4.96967323e-02, -3.04562580e-02,\n",
       "          1.36194341e-02],\n",
       "        [ 1.16535537e-02,  2.34412216e-02, -1.53768063e-02,\n",
       "          1.84336565e-02,  1.28363408e-02, -2.58370172e-02,\n",
       "          3.78773548e-02, -4.81442101e-02,  3.51866968e-02,\n",
       "          4.44219597e-02],\n",
       "        [ 1.06552020e-02,  1.09758154e-02,  4.37325723e-02,\n",
       "          4.30105962e-02,  1.04884133e-02, -3.58223915e-05,\n",
       "         -2.99801677e-03,  2.78848894e-02, -1.71215534e-02,\n",
       "          3.38534229e-02]],\n",
       "\n",
       "       [[ 9.09669325e-03, -3.58269364e-03,  6.67985529e-03,\n",
       "         -3.55936661e-02,  3.18146609e-02,  2.73786895e-02,\n",
       "         -4.31043617e-02, -3.25590596e-02,  3.38653214e-02,\n",
       "         -3.01570818e-03],\n",
       "        [ 9.09669325e-03, -3.58269364e-03,  6.67985529e-03,\n",
       "         -3.55936661e-02,  3.18146609e-02,  2.73786895e-02,\n",
       "         -4.31043617e-02, -3.25590596e-02,  3.38653214e-02,\n",
       "         -3.01570818e-03],\n",
       "        [ 9.09669325e-03, -3.58269364e-03,  6.67985529e-03,\n",
       "         -3.55936661e-02,  3.18146609e-02,  2.73786895e-02,\n",
       "         -4.31043617e-02, -3.25590596e-02,  3.38653214e-02,\n",
       "         -3.01570818e-03],\n",
       "        [ 1.65751092e-02,  1.79617666e-02,  2.94964947e-02,\n",
       "         -4.87318151e-02, -2.13371404e-02,  4.21132334e-02,\n",
       "          4.78022173e-03,  4.52882051e-03, -1.65918693e-02,\n",
       "         -3.14844251e-02],\n",
       "        [-2.55081896e-02,  4.68034483e-02, -3.36350575e-02,\n",
       "         -3.46849337e-02,  1.82058699e-02,  4.43726815e-02,\n",
       "          3.16472910e-02, -1.08553544e-02, -3.23754326e-02,\n",
       "         -4.01007310e-02],\n",
       "        [ 2.69914754e-02,  1.49332546e-02,  2.64965929e-02,\n",
       "         -2.23653670e-02,  5.38410991e-03, -1.87503938e-02,\n",
       "          4.98308204e-02,  3.91557477e-02, -2.20090393e-02,\n",
       "          2.76494958e-02],\n",
       "        [ 3.56487371e-02,  2.67877914e-02,  2.28173770e-02,\n",
       "          1.90138854e-02,  4.11357731e-03,  2.02756412e-02,\n",
       "         -1.58316493e-02, -2.58923769e-02,  5.98489121e-03,\n",
       "         -2.09709294e-02],\n",
       "        [ 3.52217071e-02,  1.40476972e-04,  4.86658886e-03,\n",
       "          2.27257274e-02, -1.11956373e-02,  9.65052843e-03,\n",
       "         -3.05482876e-02, -3.37975398e-02,  1.96528547e-02,\n",
       "         -7.45205954e-03]],\n",
       "\n",
       "       [[ 9.09669325e-03, -3.58269364e-03,  6.67985529e-03,\n",
       "         -3.55936661e-02,  3.18146609e-02,  2.73786895e-02,\n",
       "         -4.31043617e-02, -3.25590596e-02,  3.38653214e-02,\n",
       "         -3.01570818e-03],\n",
       "        [ 9.09669325e-03, -3.58269364e-03,  6.67985529e-03,\n",
       "         -3.55936661e-02,  3.18146609e-02,  2.73786895e-02,\n",
       "         -4.31043617e-02, -3.25590596e-02,  3.38653214e-02,\n",
       "         -3.01570818e-03],\n",
       "        [ 9.09669325e-03, -3.58269364e-03,  6.67985529e-03,\n",
       "         -3.55936661e-02,  3.18146609e-02,  2.73786895e-02,\n",
       "         -4.31043617e-02, -3.25590596e-02,  3.38653214e-02,\n",
       "         -3.01570818e-03],\n",
       "        [ 9.09669325e-03, -3.58269364e-03,  6.67985529e-03,\n",
       "         -3.55936661e-02,  3.18146609e-02,  2.73786895e-02,\n",
       "         -4.31043617e-02, -3.25590596e-02,  3.38653214e-02,\n",
       "         -3.01570818e-03],\n",
       "        [ 4.58531044e-02,  3.58261503e-02,  1.13152489e-02,\n",
       "          2.23656632e-02,  8.81677866e-03, -1.12062320e-02,\n",
       "          3.91600840e-02, -7.22763687e-03, -3.76217254e-02,\n",
       "          7.48295709e-03],\n",
       "        [ 2.81685330e-02, -1.53794512e-02,  3.91105078e-02,\n",
       "         -3.95035036e-02, -4.35756557e-02, -2.10250262e-02,\n",
       "          3.54816057e-02, -9.53924656e-03, -3.35790515e-02,\n",
       "         -5.02041727e-03],\n",
       "        [ 3.38597782e-02, -3.04458030e-02,  3.66569497e-02,\n",
       "         -3.90951149e-02,  4.53052856e-02,  4.34996597e-02,\n",
       "         -1.46769360e-03, -1.51946768e-02, -2.80021075e-02,\n",
       "          1.11335739e-02],\n",
       "        [ 1.16535537e-02,  2.34412216e-02, -1.53768063e-02,\n",
       "          1.84336565e-02,  1.28363408e-02, -2.58370172e-02,\n",
       "          3.78773548e-02, -4.81442101e-02,  3.51866968e-02,\n",
       "          4.44219597e-02]]], dtype=float32)"
      ]
     },
     "execution_count": 13,
     "metadata": {},
     "output_type": "execute_result"
    }
   ],
   "source": [
    "model.predict(embedded_docs)"
   ]
  },
  {
   "cell_type": "code",
   "execution_count": 14,
   "metadata": {},
   "outputs": [
    {
     "data": {
      "text/plain": [
       "array([   0,    0,    0,    0, 3219, 6822,  518, 1967], dtype=int32)"
      ]
     },
     "execution_count": 14,
     "metadata": {},
     "output_type": "execute_result"
    }
   ],
   "source": [
    "embedded_docs[0]"
   ]
  },
  {
   "cell_type": "code",
   "execution_count": 15,
   "metadata": {},
   "outputs": [
    {
     "ename": "ValueError",
     "evalue": "Exception encountered when calling Sequential.call().\n\n\u001b[1mCannot take the length of shape with unknown rank.\u001b[0m\n\nArguments received by Sequential.call():\n  • inputs=tf.Tensor(shape=<unknown>, dtype=int32)\n  • training=False\n  • mask=None",
     "output_type": "error",
     "traceback": [
      "\u001b[31m---------------------------------------------------------------------------\u001b[39m",
      "\u001b[31mValueError\u001b[39m                                Traceback (most recent call last)",
      "\u001b[36mCell\u001b[39m\u001b[36m \u001b[39m\u001b[32mIn[15]\u001b[39m\u001b[32m, line 1\u001b[39m\n\u001b[32m----> \u001b[39m\u001b[32m1\u001b[39m \u001b[43mmodel\u001b[49m\u001b[43m.\u001b[49m\u001b[43mpredict\u001b[49m\u001b[43m(\u001b[49m\u001b[43membedded_docs\u001b[49m\u001b[43m[\u001b[49m\u001b[32;43m0\u001b[39;49m\u001b[43m]\u001b[49m\u001b[43m)\u001b[49m\n",
      "\u001b[36mFile \u001b[39m\u001b[32md:\\itian\\python\\ml-customer-retention\\venv\\Lib\\site-packages\\keras\\src\\utils\\traceback_utils.py:122\u001b[39m, in \u001b[36mfilter_traceback.<locals>.error_handler\u001b[39m\u001b[34m(*args, **kwargs)\u001b[39m\n\u001b[32m    119\u001b[39m     filtered_tb = _process_traceback_frames(e.__traceback__)\n\u001b[32m    120\u001b[39m     \u001b[38;5;66;03m# To get the full stack trace, call:\u001b[39;00m\n\u001b[32m    121\u001b[39m     \u001b[38;5;66;03m# `keras.config.disable_traceback_filtering()`\u001b[39;00m\n\u001b[32m--> \u001b[39m\u001b[32m122\u001b[39m     \u001b[38;5;28;01mraise\u001b[39;00m e.with_traceback(filtered_tb) \u001b[38;5;28;01mfrom\u001b[39;00m\u001b[38;5;250m \u001b[39m\u001b[38;5;28;01mNone\u001b[39;00m\n\u001b[32m    123\u001b[39m \u001b[38;5;28;01mfinally\u001b[39;00m:\n\u001b[32m    124\u001b[39m     \u001b[38;5;28;01mdel\u001b[39;00m filtered_tb\n",
      "\u001b[36mFile \u001b[39m\u001b[32md:\\itian\\python\\ml-customer-retention\\venv\\Lib\\site-packages\\keras\\src\\utils\\traceback_utils.py:122\u001b[39m, in \u001b[36mfilter_traceback.<locals>.error_handler\u001b[39m\u001b[34m(*args, **kwargs)\u001b[39m\n\u001b[32m    119\u001b[39m     filtered_tb = _process_traceback_frames(e.__traceback__)\n\u001b[32m    120\u001b[39m     \u001b[38;5;66;03m# To get the full stack trace, call:\u001b[39;00m\n\u001b[32m    121\u001b[39m     \u001b[38;5;66;03m# `keras.config.disable_traceback_filtering()`\u001b[39;00m\n\u001b[32m--> \u001b[39m\u001b[32m122\u001b[39m     \u001b[38;5;28;01mraise\u001b[39;00m e.with_traceback(filtered_tb) \u001b[38;5;28;01mfrom\u001b[39;00m\u001b[38;5;250m \u001b[39m\u001b[38;5;28;01mNone\u001b[39;00m\n\u001b[32m    123\u001b[39m \u001b[38;5;28;01mfinally\u001b[39;00m:\n\u001b[32m    124\u001b[39m     \u001b[38;5;28;01mdel\u001b[39;00m filtered_tb\n",
      "\u001b[31mValueError\u001b[39m: Exception encountered when calling Sequential.call().\n\n\u001b[1mCannot take the length of shape with unknown rank.\u001b[0m\n\nArguments received by Sequential.call():\n  • inputs=tf.Tensor(shape=<unknown>, dtype=int32)\n  • training=False\n  • mask=None"
     ]
    }
   ],
   "source": [
    "model.predict(embedded_docs[0])"
   ]
  },
  {
   "cell_type": "code",
   "execution_count": null,
   "metadata": {},
   "outputs": [],
   "source": []
  }
 ],
 "metadata": {
  "kernelspec": {
   "display_name": "Python 3",
   "language": "python",
   "name": "python3"
  },
  "language_info": {
   "codemirror_mode": {
    "name": "ipython",
    "version": 3
   },
   "file_extension": ".py",
   "mimetype": "text/x-python",
   "name": "python",
   "nbconvert_exporter": "python",
   "pygments_lexer": "ipython3",
   "version": "3.11.11"
  }
 },
 "nbformat": 4,
 "nbformat_minor": 2
}
