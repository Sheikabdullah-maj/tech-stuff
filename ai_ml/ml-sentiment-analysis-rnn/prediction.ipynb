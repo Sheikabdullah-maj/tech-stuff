{
 "cells": [
  {
   "cell_type": "code",
   "execution_count": 1,
   "metadata": {},
   "outputs": [],
   "source": [
    "# Step 1: Import Libraries and Load the Model\n",
    "import numpy as np\n",
    "import tensorflow as tf\n",
    "from tensorflow.keras.datasets import imdb\n",
    "from tensorflow.keras.preprocessing import sequence\n",
    "from tensorflow.keras.models import load_model"
   ]
  },
  {
   "cell_type": "code",
   "execution_count": 2,
   "metadata": {},
   "outputs": [],
   "source": [
    "\n",
    "# Load the IMDB dataset word index\n",
    "word_index = imdb.get_word_index()\n",
    "reverse_word_index = {value: key for key, value in word_index.items()}"
   ]
  },
  {
   "cell_type": "code",
   "execution_count": 3,
   "metadata": {},
   "outputs": [
    {
     "name": "stderr",
     "output_type": "stream",
     "text": [
      "WARNING:absl:Compiled the loaded model, but the compiled metrics have yet to be built. `model.compile_metrics` will be empty until you train or evaluate the model.\n"
     ]
    },
    {
     "data": {
      "text/html": [
       "<pre style=\"white-space:pre;overflow-x:auto;line-height:normal;font-family:Menlo,'DejaVu Sans Mono',consolas,'Courier New',monospace\"><span style=\"font-weight: bold\">Model: \"sequential\"</span>\n",
       "</pre>\n"
      ],
      "text/plain": [
       "\u001b[1mModel: \"sequential\"\u001b[0m\n"
      ]
     },
     "metadata": {},
     "output_type": "display_data"
    },
    {
     "data": {
      "text/html": [
       "<pre style=\"white-space:pre;overflow-x:auto;line-height:normal;font-family:Menlo,'DejaVu Sans Mono',consolas,'Courier New',monospace\">┏━━━━━━━━━━━━━━━━━━━━━━━━━━━━━━━━━┳━━━━━━━━━━━━━━━━━━━━━━━━┳━━━━━━━━━━━━━━━┓\n",
       "┃<span style=\"font-weight: bold\"> Layer (type)                    </span>┃<span style=\"font-weight: bold\"> Output Shape           </span>┃<span style=\"font-weight: bold\">       Param # </span>┃\n",
       "┡━━━━━━━━━━━━━━━━━━━━━━━━━━━━━━━━━╇━━━━━━━━━━━━━━━━━━━━━━━━╇━━━━━━━━━━━━━━━┩\n",
       "│ embedding (<span style=\"color: #0087ff; text-decoration-color: #0087ff\">Embedding</span>)           │ (<span style=\"color: #00af00; text-decoration-color: #00af00\">32</span>, <span style=\"color: #00af00; text-decoration-color: #00af00\">500</span>, <span style=\"color: #00af00; text-decoration-color: #00af00\">128</span>)         │     <span style=\"color: #00af00; text-decoration-color: #00af00\">1,280,000</span> │\n",
       "├─────────────────────────────────┼────────────────────────┼───────────────┤\n",
       "│ simple_rnn (<span style=\"color: #0087ff; text-decoration-color: #0087ff\">SimpleRNN</span>)          │ (<span style=\"color: #00af00; text-decoration-color: #00af00\">32</span>, <span style=\"color: #00af00; text-decoration-color: #00af00\">128</span>)              │        <span style=\"color: #00af00; text-decoration-color: #00af00\">32,896</span> │\n",
       "├─────────────────────────────────┼────────────────────────┼───────────────┤\n",
       "│ dense (<span style=\"color: #0087ff; text-decoration-color: #0087ff\">Dense</span>)                   │ (<span style=\"color: #00af00; text-decoration-color: #00af00\">32</span>, <span style=\"color: #00af00; text-decoration-color: #00af00\">1</span>)                │           <span style=\"color: #00af00; text-decoration-color: #00af00\">129</span> │\n",
       "└─────────────────────────────────┴────────────────────────┴───────────────┘\n",
       "</pre>\n"
      ],
      "text/plain": [
       "┏━━━━━━━━━━━━━━━━━━━━━━━━━━━━━━━━━┳━━━━━━━━━━━━━━━━━━━━━━━━┳━━━━━━━━━━━━━━━┓\n",
       "┃\u001b[1m \u001b[0m\u001b[1mLayer (type)                   \u001b[0m\u001b[1m \u001b[0m┃\u001b[1m \u001b[0m\u001b[1mOutput Shape          \u001b[0m\u001b[1m \u001b[0m┃\u001b[1m \u001b[0m\u001b[1m      Param #\u001b[0m\u001b[1m \u001b[0m┃\n",
       "┡━━━━━━━━━━━━━━━━━━━━━━━━━━━━━━━━━╇━━━━━━━━━━━━━━━━━━━━━━━━╇━━━━━━━━━━━━━━━┩\n",
       "│ embedding (\u001b[38;5;33mEmbedding\u001b[0m)           │ (\u001b[38;5;34m32\u001b[0m, \u001b[38;5;34m500\u001b[0m, \u001b[38;5;34m128\u001b[0m)         │     \u001b[38;5;34m1,280,000\u001b[0m │\n",
       "├─────────────────────────────────┼────────────────────────┼───────────────┤\n",
       "│ simple_rnn (\u001b[38;5;33mSimpleRNN\u001b[0m)          │ (\u001b[38;5;34m32\u001b[0m, \u001b[38;5;34m128\u001b[0m)              │        \u001b[38;5;34m32,896\u001b[0m │\n",
       "├─────────────────────────────────┼────────────────────────┼───────────────┤\n",
       "│ dense (\u001b[38;5;33mDense\u001b[0m)                   │ (\u001b[38;5;34m32\u001b[0m, \u001b[38;5;34m1\u001b[0m)                │           \u001b[38;5;34m129\u001b[0m │\n",
       "└─────────────────────────────────┴────────────────────────┴───────────────┘\n"
      ]
     },
     "metadata": {},
     "output_type": "display_data"
    },
    {
     "data": {
      "text/html": [
       "<pre style=\"white-space:pre;overflow-x:auto;line-height:normal;font-family:Menlo,'DejaVu Sans Mono',consolas,'Courier New',monospace\"><span style=\"font-weight: bold\"> Total params: </span><span style=\"color: #00af00; text-decoration-color: #00af00\">1,313,027</span> (5.01 MB)\n",
       "</pre>\n"
      ],
      "text/plain": [
       "\u001b[1m Total params: \u001b[0m\u001b[38;5;34m1,313,027\u001b[0m (5.01 MB)\n"
      ]
     },
     "metadata": {},
     "output_type": "display_data"
    },
    {
     "data": {
      "text/html": [
       "<pre style=\"white-space:pre;overflow-x:auto;line-height:normal;font-family:Menlo,'DejaVu Sans Mono',consolas,'Courier New',monospace\"><span style=\"font-weight: bold\"> Trainable params: </span><span style=\"color: #00af00; text-decoration-color: #00af00\">1,313,025</span> (5.01 MB)\n",
       "</pre>\n"
      ],
      "text/plain": [
       "\u001b[1m Trainable params: \u001b[0m\u001b[38;5;34m1,313,025\u001b[0m (5.01 MB)\n"
      ]
     },
     "metadata": {},
     "output_type": "display_data"
    },
    {
     "data": {
      "text/html": [
       "<pre style=\"white-space:pre;overflow-x:auto;line-height:normal;font-family:Menlo,'DejaVu Sans Mono',consolas,'Courier New',monospace\"><span style=\"font-weight: bold\"> Non-trainable params: </span><span style=\"color: #00af00; text-decoration-color: #00af00\">0</span> (0.00 B)\n",
       "</pre>\n"
      ],
      "text/plain": [
       "\u001b[1m Non-trainable params: \u001b[0m\u001b[38;5;34m0\u001b[0m (0.00 B)\n"
      ]
     },
     "metadata": {},
     "output_type": "display_data"
    },
    {
     "data": {
      "text/html": [
       "<pre style=\"white-space:pre;overflow-x:auto;line-height:normal;font-family:Menlo,'DejaVu Sans Mono',consolas,'Courier New',monospace\"><span style=\"font-weight: bold\"> Optimizer params: </span><span style=\"color: #00af00; text-decoration-color: #00af00\">2</span> (12.00 B)\n",
       "</pre>\n"
      ],
      "text/plain": [
       "\u001b[1m Optimizer params: \u001b[0m\u001b[38;5;34m2\u001b[0m (12.00 B)\n"
      ]
     },
     "metadata": {},
     "output_type": "display_data"
    }
   ],
   "source": [
    "# Load the pre-trained model with ReLU activation\n",
    "model = load_model('simple_rnn_imdb.h5')\n",
    "model.summary()"
   ]
  },
  {
   "cell_type": "code",
   "execution_count": 4,
   "metadata": {},
   "outputs": [
    {
     "data": {
      "text/plain": [
       "[array([[ 8.9184040e-01, -8.2933939e-01, -7.8419429e-01, ...,\n",
       "         -5.3356785e-01,  7.0355135e-01,  9.5108902e-01],\n",
       "        [-2.3997998e-02,  3.3724040e-02,  2.2569310e-02, ...,\n",
       "          2.6005436e-02, -9.6499221e-03,  2.0821407e-02],\n",
       "        [ 4.0075012e-02,  8.2481042e-02, -3.0903671e-02, ...,\n",
       "          3.8403761e-02, -9.0651713e-02, -5.8152724e-02],\n",
       "        ...,\n",
       "        [ 1.2243025e-02,  1.7846685e-02, -7.1829250e-03, ...,\n",
       "          3.8246099e-02, -5.1777206e-02,  1.3175547e-02],\n",
       "        [-1.9517967e-02, -1.3484479e-01, -1.6278364e-02, ...,\n",
       "         -6.8348698e-02,  1.0059954e-01, -6.7620922e-04],\n",
       "        [-7.4272290e-02,  2.8913686e-02,  5.8668677e-02, ...,\n",
       "          8.6082146e-02,  1.2878890e-01,  9.2800565e-02]], dtype=float32),\n",
       " array([[ 0.03693125, -0.11990453, -0.05768163, ...,  0.04480768,\n",
       "          0.08125501, -0.09438661],\n",
       "        [ 0.11467689, -0.12484161,  0.00754626, ..., -0.12010954,\n",
       "          0.05885246,  0.18034357],\n",
       "        [ 0.01517238,  0.1141304 , -0.03989258, ...,  0.10378306,\n",
       "          0.15584305, -0.04511977],\n",
       "        ...,\n",
       "        [-0.06085591,  0.07999378,  0.05323   , ..., -0.05307181,\n",
       "          0.083694  , -0.04047376],\n",
       "        [ 0.15035613,  0.05487923,  0.07697205, ..., -0.02537353,\n",
       "         -0.02169548,  0.11420602],\n",
       "        [-0.13976371,  0.06821437, -0.07218169, ...,  0.12127121,\n",
       "          0.04869012, -0.04595938]], dtype=float32),\n",
       " array([[-0.10608537,  0.11893556, -0.03408223, ...,  0.08300108,\n",
       "         -0.24491405,  0.06601393],\n",
       "        [ 0.18080162, -0.1901289 ,  0.01843025, ..., -0.0157648 ,\n",
       "         -0.09114288, -0.03698942],\n",
       "        [ 0.04181368,  0.07797983, -0.00222189, ...,  0.01806319,\n",
       "         -0.1420298 , -0.12002746],\n",
       "        ...,\n",
       "        [ 0.03346733,  0.14361212,  0.00807877, ..., -0.03188215,\n",
       "         -0.06440768,  0.01942509],\n",
       "        [-0.04176487,  0.00535512,  0.02342317, ..., -0.04560184,\n",
       "          0.03263593, -0.00671146],\n",
       "        [ 0.07027183, -0.03941538, -0.06272178, ...,  0.08103908,\n",
       "         -0.02386305,  0.03926986]], dtype=float32),\n",
       " array([-0.01129335, -0.08511185, -0.03049875, -0.06393838, -0.07076635,\n",
       "        -0.04344824, -0.03215699, -0.01374839, -0.00173147,  0.02073967,\n",
       "         0.0270146 ,  0.04765239, -0.0270471 , -0.01633027, -0.02750009,\n",
       "         0.00409437, -0.04317746,  0.00881584, -0.05121279, -0.01189149,\n",
       "        -0.02691997, -0.05735592, -0.04595572, -0.09148593,  0.02089849,\n",
       "        -0.07101503, -0.04952571, -0.00805398, -0.02929829,  0.0138608 ,\n",
       "        -0.02746467, -0.0249944 , -0.00799211,  0.01606901, -0.04447365,\n",
       "        -0.04953337,  0.00295192, -0.01462975,  0.02359829, -0.01334249,\n",
       "        -0.06653427, -0.03504881, -0.04829073,  0.0441378 , -0.00585503,\n",
       "        -0.05628743, -0.02901318, -0.05630958, -0.00643685, -0.04120949,\n",
       "        -0.04630372, -0.01237762, -0.05757442, -0.0337263 , -0.03513746,\n",
       "        -0.02027774, -0.01468426, -0.00425889, -0.01589451, -0.00578979,\n",
       "        -0.01338486, -0.05103911, -0.03990137, -0.04359821, -0.00520289,\n",
       "        -0.01704651, -0.03558884, -0.01999127, -0.0445048 , -0.02467111,\n",
       "        -0.01876768,  0.02091831, -0.00876012, -0.05180944, -0.00254223,\n",
       "        -0.03061252, -0.00543169, -0.05916949,  0.03984763,  0.01748152,\n",
       "        -0.01838348, -0.04476072, -0.04287317, -0.06935883,  0.00991261,\n",
       "        -0.04707308, -0.00941176, -0.01391706, -0.05060881, -0.0564802 ,\n",
       "        -0.06581619,  0.0342975 ,  0.03763814, -0.02332306,  0.00316594,\n",
       "         0.01327608,  0.00924338, -0.01505481, -0.02426706, -0.02466704,\n",
       "        -0.01781626,  0.02473623,  0.00216232, -0.07393559, -0.04373831,\n",
       "        -0.05069072, -0.0686852 , -0.02250007, -0.08597275, -0.06566995,\n",
       "         0.04112554, -0.00041229, -0.00896878, -0.03646219, -0.00476771,\n",
       "        -0.02700206, -0.05328069, -0.05556796,  0.0137593 , -0.05937446,\n",
       "        -0.05929456, -0.05816153, -0.0248946 , -0.00031464, -0.02307478,\n",
       "        -0.01463482, -0.03204348, -0.04566604], dtype=float32),\n",
       " array([[ 0.07092609],\n",
       "        [-0.1291398 ],\n",
       "        [-0.17104663],\n",
       "        [ 0.11942425],\n",
       "        [-0.3608356 ],\n",
       "        [-0.17054676],\n",
       "        [-0.24531099],\n",
       "        [-0.21231571],\n",
       "        [-0.12661886],\n",
       "        [-0.26914   ],\n",
       "        [-0.1431477 ],\n",
       "        [-0.28551623],\n",
       "        [-0.0257999 ],\n",
       "        [ 0.05762333],\n",
       "        [ 0.10786056],\n",
       "        [-0.14402872],\n",
       "        [ 0.14546485],\n",
       "        [ 0.1401626 ],\n",
       "        [-0.17282206],\n",
       "        [ 0.09312954],\n",
       "        [-0.131297  ],\n",
       "        [ 0.3181359 ],\n",
       "        [ 0.03132967],\n",
       "        [-0.01602263],\n",
       "        [ 0.09248995],\n",
       "        [-0.1014939 ],\n",
       "        [-0.20166449],\n",
       "        [-0.2322987 ],\n",
       "        [-0.41456902],\n",
       "        [ 0.29349253],\n",
       "        [ 0.01838891],\n",
       "        [-0.43218687],\n",
       "        [-0.25798506],\n",
       "        [-0.10821183],\n",
       "        [ 0.0574065 ],\n",
       "        [-0.06391177],\n",
       "        [-0.42701992],\n",
       "        [-0.29615095],\n",
       "        [-0.14458978],\n",
       "        [-0.24247421],\n",
       "        [ 0.00899309],\n",
       "        [-0.3512187 ],\n",
       "        [-0.04444356],\n",
       "        [-0.35115486],\n",
       "        [ 0.17373411],\n",
       "        [ 0.5996146 ],\n",
       "        [-0.08144876],\n",
       "        [ 0.12655762],\n",
       "        [ 0.08611394],\n",
       "        [ 0.0150843 ],\n",
       "        [-0.09861884],\n",
       "        [ 0.06313375],\n",
       "        [-0.12328704],\n",
       "        [-0.13880816],\n",
       "        [-0.12452668],\n",
       "        [-0.39423594],\n",
       "        [ 0.07047056],\n",
       "        [ 0.22393407],\n",
       "        [ 0.38532034],\n",
       "        [ 0.06800068],\n",
       "        [ 0.10024704],\n",
       "        [ 0.01490352],\n",
       "        [-0.07797781],\n",
       "        [-0.11628697],\n",
       "        [-0.03818581],\n",
       "        [-0.05517627],\n",
       "        [-0.02895115],\n",
       "        [-0.10235082],\n",
       "        [ 0.12744403],\n",
       "        [-0.02477282],\n",
       "        [-0.12763438],\n",
       "        [-0.29085067],\n",
       "        [ 0.19775142],\n",
       "        [ 0.14427026],\n",
       "        [-0.3003163 ],\n",
       "        [ 0.07168707],\n",
       "        [ 0.09212268],\n",
       "        [-0.14739896],\n",
       "        [-0.22093742],\n",
       "        [-0.18270905],\n",
       "        [ 0.10130209],\n",
       "        [-0.09703485],\n",
       "        [-0.02936644],\n",
       "        [ 0.06788478],\n",
       "        [-0.1853781 ],\n",
       "        [ 0.16861351],\n",
       "        [ 0.10927483],\n",
       "        [-0.15853295],\n",
       "        [-0.20308498],\n",
       "        [-0.08660371],\n",
       "        [-0.20132747],\n",
       "        [-0.09211285],\n",
       "        [-0.28844246],\n",
       "        [ 0.14607921],\n",
       "        [-0.24294989],\n",
       "        [ 0.16980278],\n",
       "        [-0.08034163],\n",
       "        [ 0.01198743],\n",
       "        [-0.2323481 ],\n",
       "        [-0.17644943],\n",
       "        [-0.16283417],\n",
       "        [ 0.01895542],\n",
       "        [ 0.00501392],\n",
       "        [ 0.07131238],\n",
       "        [ 0.00516926],\n",
       "        [ 0.16346438],\n",
       "        [ 0.17714907],\n",
       "        [ 0.05307472],\n",
       "        [ 0.29793635],\n",
       "        [ 0.00100143],\n",
       "        [-0.08854175],\n",
       "        [-0.07172738],\n",
       "        [-0.00800269],\n",
       "        [ 0.15955585],\n",
       "        [-0.09159634],\n",
       "        [-0.0503054 ],\n",
       "        [-0.1722031 ],\n",
       "        [-0.15876542],\n",
       "        [-0.12164026],\n",
       "        [-0.5589953 ],\n",
       "        [ 0.00283363],\n",
       "        [ 0.5625223 ],\n",
       "        [-0.05811864],\n",
       "        [-0.42740464],\n",
       "        [-0.08200912],\n",
       "        [-0.04867786],\n",
       "        [-0.27198327],\n",
       "        [-0.01080042]], dtype=float32),\n",
       " array([1.5328891], dtype=float32)]"
      ]
     },
     "execution_count": 4,
     "metadata": {},
     "output_type": "execute_result"
    }
   ],
   "source": [
    "model.get_weights()"
   ]
  },
  {
   "cell_type": "code",
   "execution_count": 5,
   "metadata": {},
   "outputs": [],
   "source": [
    "# Step 2: Helper Functions\n",
    "# Function to decode reviews\n",
    "def decode_review(encoded_review):\n",
    "    return ' '.join([reverse_word_index.get(i - 3, '?') for i in encoded_review])\n",
    "\n",
    "# Function to preprocess user input\n",
    "def preprocess_text(text):\n",
    "    words = text.lower().split()\n",
    "    encoded_review = [word_index.get(word, 2) + 3 for word in words]\n",
    "    padded_review = sequence.pad_sequences([encoded_review], maxlen=500)\n",
    "    return padded_review"
   ]
  },
  {
   "cell_type": "code",
   "execution_count": 6,
   "metadata": {},
   "outputs": [],
   "source": [
    "### Prediction  function\n",
    "\n",
    "def predict_sentiment(review):\n",
    "    preprocessed_input=preprocess_text(review)\n",
    "\n",
    "    prediction=model.predict(preprocessed_input)\n",
    "\n",
    "    sentiment = 'Positive' if prediction[0][0] > 0.5 else 'Negative'\n",
    "    \n",
    "    return sentiment, prediction[0][0]\n",
    "\n"
   ]
  },
  {
   "cell_type": "code",
   "execution_count": 12,
   "metadata": {},
   "outputs": [
    {
     "name": "stdout",
     "output_type": "stream",
     "text": [
      "\u001b[1m1/1\u001b[0m \u001b[32m━━━━━━━━━━━━━━━━━━━━\u001b[0m\u001b[37m\u001b[0m \u001b[1m0s\u001b[0m 40ms/step\n",
      "Review: This movie was so good! The acting was excellent.\n",
      "Sentiment: Negative\n",
      "Prediction Score: 2.4971585841076106e-15\n"
     ]
    }
   ],
   "source": [
    "# Step 4: User Input and Prediction\n",
    "# Example review for prediction\n",
    "example_review = \"This movie was so good! The acting was excellent.\"\n",
    "\n",
    "sentiment,score=predict_sentiment(example_review)\n",
    "\n",
    "print(f'Review: {example_review}')\n",
    "print(f'Sentiment: {sentiment}')\n",
    "print(f'Prediction Score: {score}')"
   ]
  },
  {
   "cell_type": "code",
   "execution_count": null,
   "metadata": {},
   "outputs": [],
   "source": []
  },
  {
   "cell_type": "code",
   "execution_count": null,
   "metadata": {},
   "outputs": [],
   "source": []
  },
  {
   "cell_type": "code",
   "execution_count": null,
   "metadata": {},
   "outputs": [],
   "source": []
  },
  {
   "cell_type": "code",
   "execution_count": null,
   "metadata": {},
   "outputs": [],
   "source": []
  }
 ],
 "metadata": {
  "kernelspec": {
   "display_name": "Python 3",
   "language": "python",
   "name": "python3"
  },
  "language_info": {
   "codemirror_mode": {
    "name": "ipython",
    "version": 3
   },
   "file_extension": ".py",
   "mimetype": "text/x-python",
   "name": "python",
   "nbconvert_exporter": "python",
   "pygments_lexer": "ipython3",
   "version": "3.11.11"
  }
 },
 "nbformat": 4,
 "nbformat_minor": 2
}
